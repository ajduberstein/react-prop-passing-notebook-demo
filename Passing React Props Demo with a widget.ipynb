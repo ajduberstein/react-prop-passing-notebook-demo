{
 "cells": [
  {
   "cell_type": "markdown",
   "metadata": {},
   "source": [
    "We use React.js and some JS libraries already included with every notebook to add a widget model."
   ]
  },
  {
   "cell_type": "code",
   "execution_count": 314,
   "metadata": {},
   "outputs": [
    {
     "data": {
      "application/javascript": [
       "\n",
       "\n",
       "requirejs.config({\n",
       "  paths: {\n",
       "    react: 'https://unpkg.com/react@16/umd/react.development',\n",
       "    reactdom: 'https://unpkg.com/react-dom@16/umd/react-dom.development'\n",
       "  }\n",
       "});\n",
       "\n",
       "\n",
       "require.undef('mywidget');\n",
       "\n",
       "define('mywidget', ['@jupyter-widgets/base', 'react', 'reactdom'],\n",
       "       function(widgets, React, ReactDOM, ReactDOMServer) {\n",
       "    \n",
       "    function addReactElement(el, props) {\n",
       "        const component = React.createElement('h1', null, props.name);\n",
       "        return ReactDOM.render(component, el);\n",
       "    }\n",
       "\n",
       "    var MyWidgetView = widgets.DOMWidgetView.extend({\n",
       "        render: function() {\n",
       "            MyWidgetView.__super__.render.apply(this, arguments);\n",
       "            this._update();\n",
       "            this.listenTo(this.model, 'change:props', this._update, this);\n",
       "        },\n",
       "\n",
       "        _update: function() {\n",
       "            const props = JSON.parse(this.model.get('props') || '');\n",
       "            addReactElement(this.el, props);\n",
       "        }\n",
       "    });\n",
       "\n",
       "    return {\n",
       "        MyWidgetView: MyWidgetView\n",
       "    }\n",
       "});\n"
      ],
      "text/plain": [
       "<IPython.core.display.Javascript object>"
      ]
     },
     "metadata": {},
     "output_type": "display_data"
    }
   ],
   "source": [
    "%%javascript\n",
    "\n",
    "\n",
    "requirejs.config({\n",
    "  paths: {\n",
    "    react: 'https://unpkg.com/react@16/umd/react.development',\n",
    "    reactdom: 'https://unpkg.com/react-dom@16/umd/react-dom.development'\n",
    "  }\n",
    "});\n",
    "\n",
    "\n",
    "require.undef('mywidget');\n",
    "\n",
    "define('mywidget', ['@jupyter-widgets/base', 'react', 'reactdom'],\n",
    "       function(widgets, React, ReactDOM, ReactDOMServer) {\n",
    "    \n",
    "    function addReactElement(el, props) {\n",
    "        const component = React.createElement('h1', null, props.name);\n",
    "        return ReactDOM.render(component, el);\n",
    "    }\n",
    "\n",
    "    var MyWidgetView = widgets.DOMWidgetView.extend({\n",
    "        render: function() {\n",
    "            MyWidgetView.__super__.render.apply(this, arguments);\n",
    "            this._update();\n",
    "            this.listenTo(this.model, 'change:props', this._update, this);\n",
    "        },\n",
    "\n",
    "        _update: function() {\n",
    "            const props = JSON.parse(this.model.get('props') || '');\n",
    "            addReactElement(this.el, props);\n",
    "        }\n",
    "    });\n",
    "\n",
    "    return {\n",
    "        MyWidgetView: MyWidgetView\n",
    "    }\n",
    "});"
   ]
  },
  {
   "cell_type": "markdown",
   "metadata": {},
   "source": [
    "We then build a Python interface for the widget"
   ]
  },
  {
   "cell_type": "code",
   "execution_count": 311,
   "metadata": {},
   "outputs": [],
   "source": [
    "import ipywidgets\n",
    "\n",
    "from ipywidgets import DOMWidget\n",
    "from traitlets import Unicode\n",
    "\n",
    "class MyWidget(DOMWidget):\n",
    "    _view_module = Unicode('mywidget').tag(sync=True)\n",
    "    _view_module_version = Unicode('0.1.0').tag(sync=True)\n",
    "    _view_name = Unicode('MyWidgetView').tag(sync=True)\n",
    "    props = Unicode('{\"name\": \"Uber\"}').tag(sync=True)"
   ]
  },
  {
   "cell_type": "markdown",
   "metadata": {},
   "source": [
    "Below is a functional widget demo"
   ]
  },
  {
   "cell_type": "code",
   "execution_count": 316,
   "metadata": {},
   "outputs": [
    {
     "data": {
      "application/vnd.jupyter.widget-view+json": {
       "model_id": "e2590cffdbc0462b9936ecf625246138",
       "version_major": 2,
       "version_minor": 0
      },
      "text/plain": [
       "MyWidget()"
      ]
     },
     "metadata": {},
     "output_type": "display_data"
    }
   ],
   "source": [
    "mw = MyWidget()\n",
    "mw"
   ]
  },
  {
   "cell_type": "code",
   "execution_count": 313,
   "metadata": {},
   "outputs": [],
   "source": [
    "# Updating this property changes the value of the widget\n",
    "mw.props = '{\"name\": \"Duber\"}'"
   ]
  }
 ],
 "metadata": {
  "kernelspec": {
   "display_name": "Python 2",
   "language": "python",
   "name": "python2"
  },
  "language_info": {
   "codemirror_mode": {
    "name": "ipython",
    "version": 3
   },
   "file_extension": ".py",
   "mimetype": "text/x-python",
   "name": "python",
   "nbconvert_exporter": "python",
   "pygments_lexer": "ipython3",
   "version": "3.7.4"
  }
 },
 "nbformat": 4,
 "nbformat_minor": 2
}
